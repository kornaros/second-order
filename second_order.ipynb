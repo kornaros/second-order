{
 "cells": [
  {
   "cell_type": "code",
   "execution_count": 3,
   "id": "505893",
   "metadata": {
    "collapsed": false,
    "jupyter": {
    }
   },
   "outputs": [
    {
     "data": {
      "text/html": "\n<h2 style=\"font-family: Arial; font-weight: bold; font-size: 24px; \">\n    Μελέτη της Δευτεροβάθμιας εξίσωσης\n</h2>\n",
      "text/plain": [
       "<IPython.core.display.HTML object>"
      ]
     },
     "execution_count": 3,
     "metadata": {
     },
     "output_type": "execute_result"
    },
    {
     "data": {
      "application/vnd.jupyter.widget-view+json": {
       "model_id": "3a39654736a94a9bba0b7014399a0eed",
       "version_major": 2,
       "version_minor": 0
      },
      "text/plain": [
       "Interactive function <function solve_quadratic at 0x7fef65d08c20> with 3 widgets\n",
       "  a_str: TransformText(value='1', description='a', layout=Layout(max_width='81em'))\n",
       "  b_str: TransformText(value='1', description='b', layout=Layout(max_width='81em'))\n",
       "  c_str: TransformText(value='1', description='c', layout=Layout(max_width='81em'))"
      ]
     },
     "execution_count": 3,
     "metadata": {
     },
     "output_type": "execute_result"
    }
   ],
   "source": [
    "from sage.all import var, Integer, latex, exp\n",
    "from IPython.display import display, Latex, HTML\n",
    "#import ipywidgets as widgets\n",
    "\n",
    "x = var('x')\n",
    "e = exp(1)\n",
    "\n",
    "def format_expr(expr):\n",
    "    s = latex(expr)\n",
    "    # Αν περιέχει κάποιον από τους τελεστές +, -, \\cdot, \\,, \\frac τότε βάζουμε παρενθέσεις\n",
    "    if any(token in s for token in [r'+', r'-', r'\\cdot', r'\\,', r'\\frac']):\n",
    "        s = s.replace(r'\\,', ' ')  # Αφαιρούμε το \\, που βάζει το sage\n",
    "        return f\"\\\\left({s}\\\\right)\"\n",
    "    else:\n",
    "        return s\n",
    "# Τίτλος με Arial, μέγεθος 24px, bold και κεφαλαία\n",
    "title_html = \"\"\"\n",
    "<h2 style=\"font-family: Arial; font-weight: bold; font-size: 24px; \">\n",
    "    Μελέτη της Δευτεροβάθμιας εξίσωσης\n",
    "</h2>\n",
    "\"\"\"\n",
    "\n",
    "display(HTML(title_html))\n",
    "\n",
    "@interact #Εύρεση Ριζών Δευτεροβάμιας ΕΞΙΣΩΣΗΣ.\n",
    "def solve_quadratic(\n",
    "    a_str=input_box('1', label='a', type=str),\n",
    "    b_str=input_box('1', label='b', type=str),\n",
    "    c_str=input_box('1', label='c', type=str)\n",
    "):\n",
    "    try:\n",
    "        a = SR(a_str)\n",
    "        b = SR(b_str)\n",
    "        c = SR(c_str)\n",
    "\n",
    "        a_val = a.n()\n",
    "        b_val = b.n()\n",
    "        c_val = c.n()\n",
    "\n",
    "        if not (-10 <= a_val <= 10 and -10 <= b_val <= 10 and -10 <= c_val <= 10):\n",
    "            pretty_print(html(\"<span style='color:red'>Οι τιμές πρέπει να είναι μεταξύ -10 και 10.</span>\"))\n",
    "            return\n",
    "\n",
    "        x = var('x')\n",
    "        eq = a*x^2 + b*x + c == 0\n",
    "\n",
    "        # Διακρίνουσα\n",
    "        Delta = b^2 - 4*a*c\n",
    "        Delta_val = Delta.n()\n",
    " \n",
    "\n",
    "\n",
    "        show(LatexExpr(r\"\\text{Λύνουμε την εξίσωση:} \\quad %s x^2 + %s x + %s = 0\" % (format_expr(a), format_expr(b), format_expr(c))))\n",
    "        show(LatexExpr(r\"\\Delta = b^2 - 4ac = %s\" % latex(Delta)))\n",
    "\n",
    "        solutions = solve(eq, x)\n",
    "\n",
    "        # Γράφημα\n",
    "        plot1 = plot(a*x^2 + b*x + c, (x, -10, 10), ymin=-10, ymax=10, color='blue', thickness=2)\n",
    "\n",
    "        if Delta_val >= 0:\n",
    "            # Πραγματικές ρίζες\n",
    "            roots = [sol.rhs() for sol in solutions]\n",
    "            for r in roots:\n",
    "                plot1 += point((r.n(), 0), size=30, color='green', legend_label=\"Πραγματικές ρίζες\")\n",
    "            root_latex = \",\\\\quad \".join([latex(r) for r in roots])\n",
    "            show(LatexExpr(r\"\\textcolor{green}{\\text{Πραγματικές ρίζες: }} \" + root_latex))\n",
    "        else:\n",
    "            # Μη πραγματικές ρίζες με LaTeX\n",
    "            root_latex = \",\\\\quad \".join([latex(sol.rhs()) for sol in solutions])\n",
    "            show(LatexExpr(r\"\\textcolor{red}{\\text{Μη πραγματικές ρίζες: }} \" + root_latex))\n",
    "\n",
    "        show(plot1)\n",
    "\n",
    "    except Exception as e:\n",
    "        pretty_print(html(\"<span style='color:red'>Σφάλμα στην είσοδο: παρακαλώ συμπληρώστε σωστά τον μαθηματικό τύπο.</span>\"))\n"
   ]
  }
 ],
 "metadata": {
  "kernelspec": {
   "argv": [
    "sage-10.4",
    "--python",
    "-m",
    "sage.repl.ipython_kernel",
    "--matplotlib=inline",
    "-f",
    "{connection_file}"
   ],
   "display_name": "SageMath 10.4",
   "env": {
   },
   "language": "sagemath",
   "metadata": {
    "cocalc": {
     "description": "Open-source mathematical software system",
     "priority": 1,
     "url": "https://www.sagemath.org/"
    }
   },
   "name": "sage-10.4",
   "resource_dir": "/ext/jupyter/kernels/sage-10.4"
  },
  "language_info": {
   "codemirror_mode": {
    "name": "ipython",
    "version": 3
   },
   "file_extension": ".py",
   "mimetype": "text/x-python",
   "name": "python",
   "nbconvert_exporter": "python",
   "pygments_lexer": "ipython3",
   "version": "3.12.4"
  }
 },
 "nbformat": 4,
 "nbformat_minor": 4
}